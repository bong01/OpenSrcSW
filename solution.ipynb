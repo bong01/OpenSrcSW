{
 "cells": [
  {
   "cell_type": "code",
   "execution_count": 61,
   "id": "527ca65f",
   "metadata": {},
   "outputs": [
    {
     "name": "stdout",
     "output_type": "stream",
     "text": [
      "(1,2)\n",
      "(3,4)\n",
      "(4,6)\n"
     ]
    }
   ],
   "source": [
    "# 문제 1\n",
    "class Point:\n",
    "    n1=0\n",
    "    n2=0\n",
    "    \n",
    "    def __init__(self, n1, n2):\n",
    "        self.n1 = n1\n",
    "        self.n2 = n2\n",
    "        \n",
    "    def show(self):\n",
    "        print('({},{})'.format(self.n1,self.n2))\n",
    "        \n",
    "    def __add__(self,b):\n",
    "        self.n1 += b.n1\n",
    "        self.n2 += b.n2\n",
    "        return self\n",
    "    \n",
    "    \n",
    "a = Point(1,2)\n",
    "a.show()\n",
    "\n",
    "b = Point(3,4)\n",
    "b.show()\n",
    "\n",
    "a = a+b\n",
    "a.show()"
   ]
  },
  {
   "cell_type": "code",
   "execution_count": 70,
   "id": "7d573896",
   "metadata": {},
   "outputs": [
    {
     "name": "stdout",
     "output_type": "stream",
     "text": [
      "['날짜', '지점', '평균기온(℃)', '최저기온(℃)', '최고기온(℃)']\n",
      "['2021-05-01', '108', '10.2', '8.5', '15.3']\n",
      "일교차 합: 6.800000000000001\n",
      "['2021-05-02', '108', '12.4', '7.3', '18.7']\n",
      "일교차 합: 18.2\n",
      "['2021-05-03', '108', '14.1', '8.4', '20.3']\n",
      "일교차 합: 30.1\n",
      "['2021-05-04', '108', '13.8', '11.4', '15.8']\n",
      "일교차 합: 34.5\n",
      "['2021-05-05', '108', '13.9', '10.3', '18.4']\n",
      "일교차 합: 42.599999999999994\n",
      "['2021-05-06', '108', '15.7', '7.9', '23.1']\n",
      "일교차 합: 57.8\n",
      "\n",
      "['2021-05-07', '108', '14.4', '10.7', '17.2']\n",
      "일교차 합: 64.3\n",
      "['2021-05-08', '108', '14.3', '8.9', '21']\n",
      "일교차 합: 76.39999999999999\n",
      "['2021-05-09', '108', '15.7', '10', '21.8']\n",
      "일교차 합: 88.19999999999999\n",
      "['2021-05-10', '108', '13.2', '11.7', '14.6']\n",
      "일교차 합: 91.1\n",
      "['2021-05-11', '108', '18.5', '9.4', '25.7']\n",
      "일교차 합: 107.39999999999999\n",
      "['2021-05-12', '108', '22', '16.9', '27.7']\n",
      "일교차 합: 118.19999999999999\n",
      "['2021-05-13', '108', '22.9', '16.6', '29.6']\n",
      "일교차 합: 131.2\n",
      "\n",
      "['2021-05-14', '108', '24.1', '18', '30.8']\n",
      "일교차 합: 144.0\n",
      "['2021-05-15', '108', '22.1', '20.8', '26.2']\n",
      "일교차 합: 149.4\n",
      "['2021-05-16', '108', '18.4', '14.8', '20.8']\n",
      "일교차 합: 155.4\n",
      "['2021-05-17', '108', '15.3', '14.2', '16.7']\n",
      "일교차 합: 157.9\n",
      "['2021-05-18', '108', '17.9', '13.6', '24.5']\n",
      "일교차 합: 168.8\n",
      "['2021-05-19', '108', '19.9', '12.4', '26.6']\n",
      "일교차 합: 183.0\n",
      "['2021-05-20', '108', '18.7', '15.6', '22.9']\n",
      "일교차 합: 190.3\n",
      "\n",
      "['2021-05-21', '108', '16', '14.2', '18.2']\n",
      "일교차 합: 194.3\n",
      "['2021-05-22', '108', '18.6', '13.8', '23.8']\n",
      "일교차 합: 204.3\n",
      "['2021-05-23', '108', '19.5', '14.3', '25.1']\n",
      "일교차 합: 215.10000000000002\n",
      "['2021-05-24', '108', '19.4', '16.4', '24.5']\n",
      "일교차 합: 223.20000000000002\n",
      "['2021-05-25', '108', '15.3', '11.9', '19.3']\n",
      "일교차 합: 230.60000000000002\n",
      "['2021-05-26', '108', '18', '11.5', '23']\n",
      "일교차 합: 242.10000000000002\n",
      "['2021-05-27', '108', '15.8', '13.9', '18.7']\n",
      "일교차 합: 246.90000000000003\n",
      "\n",
      "['2021-05-28', '108', '15.3', '12.4', '19.7']\n",
      "일교차 합: 254.20000000000005\n",
      "['2021-05-29', '108', '15.4', '12.8', '19.1']\n",
      "일교차 합: 260.50000000000006\n",
      "['2021-05-30', '108', '18.4', '10.8', '26.3']\n",
      "일교차 합: 276.00000000000006\n",
      "['2021-05-31', '108', '19.9', '16.5', '23.8']\n",
      "일교차 합: 283.30000000000007\n"
     ]
    }
   ],
   "source": [
    "# 문제 2\n",
    "\n",
    "import csv\n",
    "\n",
    "f = open('seoul.csv',encoding='cp949')\n",
    "data = csv.reader(f)\n",
    "header = next(data)\n",
    "print(header)\n",
    "c=1\n",
    "s=0\n",
    "for row in data:\n",
    "    if(c%7==0):\n",
    "        sum=0\n",
    "        print('')\n",
    "    print(row)\n",
    "    gap = float(row[-1]) - float(row[-2])\n",
    "    s += gap\n",
    "    print(\"일교차 합:\",s)\n",
    "    c+=1"
   ]
  },
  {
   "cell_type": "code",
   "execution_count": 43,
   "id": "f1880107",
   "metadata": {},
   "outputs": [
    {
     "name": "stdout",
     "output_type": "stream",
     "text": [
      "Docs = [[1 1 0 1 0 1]\n",
      " [1 1 1 0 1 0]\n",
      " [1 1 0 1 0 0]]\n",
      "Query = [1 1 0 0 1 0]\n"
     ]
    },
    {
     "data": {
      "text/plain": [
       "([<matplotlib.axis.XTick at 0x129a93a00>,\n",
       "  <matplotlib.axis.XTick at 0x129a93ac0>,\n",
       "  <matplotlib.axis.XTick at 0x129a36a60>],\n",
       " [Text(0, 0, 'doc1=0.58'), Text(1, 0, 'doc2=0.87'), Text(2, 0, 'doc3=0.67')])"
      ]
     },
     "execution_count": 43,
     "metadata": {},
     "output_type": "execute_result"
    },
    {
     "data": {
      "image/png": "[encoded data removed]",
      "text/plain": [
       "<Figure size 432x288 with 1 Axes>"
      ]
     },
     "metadata": {
      "needs_background": "light"
     },
     "output_type": "display_data"
    }
   ],
   "source": [
    "#문제3\n",
    "\n",
    "import numpy as np\n",
    "import matplotlib.pyplot as plt\n",
    "\n",
    "docs=np.array([[1,1,0,1,0,1],[1,1,1,0,1,0],[1,1,0,1,0,0]])\n",
    "query = np.array([1,1,0,0,1,0])\n",
    "print('Docs =', docs)\n",
    "print('Query =', query)\n",
    "def cos(a,b):\n",
    "    return np.dot(a,b)/(np.linalg.norm(a)*np.linalg.norm(b))\n",
    "    \n",
    "doc1 = round(cos(docs[0],query),2)\n",
    "doc2 = round(cos(docs[1],query),2)\n",
    "doc3 = round(cos(docs[2],query),2)\n",
    "d =[doc1,doc2,doc3]\n",
    "\n",
    "plt.title('Cosine similarities')\n",
    "plt.bar([0,1,2],d, label=['doc1','doc2','doc3'])\n",
    "plt.xticks([0,1,2],['doc1={}'.format(doc1),'doc2={}'.format(doc2),'doc3={}'.format(doc3)])"
   ]
  },
  {
   "cell_type": "code",
   "execution_count": null,
   "id": "637bd389",
   "metadata": {},
   "outputs": [],
   "source": []
  }
 ],
 "metadata": {
  "kernelspec": {
   "display_name": "Python 3",
   "language": "python",
   "name": "python3"
  },
  "language_info": {
   "codemirror_mode": {
    "name": "ipython",
    "version": 3
   },
   "file_extension": ".py",
   "mimetype": "text/x-python",
   "name": "python",
   "nbconvert_exporter": "python",
   "pygments_lexer": "ipython3",
   "version": "3.9.4"
  }
 },
 "nbformat": 4,
 "nbformat_minor": 5
}
