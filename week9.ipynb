{
 "cells": [
  {
   "cell_type": "code",
   "execution_count": 1,
   "metadata": {},
   "outputs": [
    {
     "name": "stdout",
     "output_type": "stream",
     "text": [
      "x= 3\n",
      "y= 45\n"
     ]
    }
   ],
   "source": [
    "# x값을 입력받아 2차 방정식 y값 계산\n",
    "\n",
    "x = int(input(\"x= \"))\n",
    "y = 3*(x**2) + 5*x + 3\n",
    "print(\"y=\",y)"
   ]
  },
  {
   "cell_type": "code",
   "execution_count": 2,
   "metadata": {},
   "outputs": [
    {
     "name": "stdout",
     "output_type": "stream",
     "text": [
      "반지름: 3\n",
      "원의 둘레: 18.84 \n",
      "원의 넓이: 28.26\n"
     ]
    }
   ],
   "source": [
    "# 반지름을 입력받아 원의 둘레와 넓이 계산\n",
    "\n",
    "radius = float(input(\"반지름: \"))\n",
    "circumference = 2 * 3.14 * radius\n",
    "area = 3.14 * (radius**2)\n",
    "\n",
    "print(\"원의 둘레:\",circumference,\"\\n원의 넓이:\",area)"
   ]
  },
  {
   "cell_type": "code",
   "execution_count": null,
   "metadata": {},
   "outputs": [],
   "source": []
  }
 ],
 "metadata": {
  "kernelspec": {
   "display_name": "Python 3",
   "language": "python",
   "name": "python3"
  },
  "language_info": {
   "codemirror_mode": {
    "name": "ipython",
    "version": 3
   },
   "file_extension": ".py",
   "mimetype": "text/x-python",
   "name": "python",
   "nbconvert_exporter": "python",
   "pygments_lexer": "ipython3",
   "version": "3.8.5"
  }
 },
 "nbformat": 4,
 "nbformat_minor": 4
}
