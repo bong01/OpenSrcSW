{
 "cells": [
  {
   "cell_type": "code",
   "execution_count": 1,
   "id": "43180209-8f9a-4154-b02d-37d7b5bbeb40",
   "metadata": {},
   "outputs": [
    {
     "name": "stdout",
     "output_type": "stream",
     "text": [
      "Numbers? 4 456 7 89\n",
      "Max: 456\n"
     ]
    }
   ],
   "source": [
    "numbers = input(\"Numbers? \").split(\" \")\n",
    "numbers = list(map(int, numbers))\n",
    "MAX = max(numbers)\n",
    "print(\"Max:\", MAX)"
   ]
  },
  {
   "cell_type": "code",
   "execution_count": 2,
   "id": "20ce5b0c",
   "metadata": {},
   "outputs": [
    {
     "name": "stdout",
     "output_type": "stream",
     "text": [
      "암호화할 문자열: abc def\n",
      "암호화된 문자열: efg bcd \n",
      "복호화할 문자열: efg bcd\n",
      "복호화된 문자열: abc def \n"
     ]
    }
   ],
   "source": [
    "def encrypt(text):\n",
    "    text = text.split(\" \")\n",
    "    text.reverse()\n",
    "    encrypted_text = \"\"\n",
    "    for word in text:\n",
    "        for char in word:\n",
    "            ascii_code = ord(char)\n",
    "            new_char = chr(ascii_code+1)\n",
    "            encrypted_text += new_char\n",
    "        encrypted_text += \" \"\n",
    "    return encrypted_text\n",
    "\n",
    "def decrypt(text):\n",
    "    text = text.split(\" \")\n",
    "    text.reverse()  \n",
    "    decrypted_text = \"\"\n",
    "    for word in text:\n",
    "        for char in word:\n",
    "            ascii_code = ord(char)\n",
    "            new_char = chr(ascii_code-1)\n",
    "            decrypted_text += new_char\n",
    "        decrypted_text += \" \"\n",
    "    return decrypted_text\n",
    "\n",
    "text = input(\"암호화할 문자열: \")\n",
    "encrypted_text = encrypt(text)\n",
    "print(\"암호화된 문자열: \" + encrypted_text)\n",
    "\n",
    "text = input(\"복호화할 문자열: \")\n",
    "decrypted_text = decrypt(text)\n",
    "print(\"복호화된 문자열: \" + decrypted_text)"
   ]
  },
  {
   "cell_type": "code",
   "execution_count": 3,
   "id": "f375d2f5",
   "metadata": {},
   "outputs": [
    {
     "name": "stdout",
     "output_type": "stream",
     "text": [
      "열 명의 전화번호를 입력하세요.\n",
      "0. 이름: abc\n",
      "0. 전화번호: 123\n",
      "1. 이름: a\n",
      "1. 전화번호: 1\n",
      "2. 이름: b\n",
      "2. 전화번호: 2\n",
      "3. 이름: c\n",
      "3. 전화번호: 3\n",
      "4. 이름: d\n",
      "4. 전화번호: 4\n",
      "5. 이름: e\n",
      "5. 전화번호: 5\n",
      "6. 이름: f\n",
      "6. 전화번호: 6\n",
      "7. 이름: g\n",
      "7. 전화번호: 7\n",
      "8. 이름: h\n",
      "8. 전화번호: 8\n",
      "9. 이름: j\n",
      "9. 전화번호: 9\n",
      "1.이름으로 검색 / 2.전화번호로 검색1\n",
      "이름: abc\n",
      "전화번호: 123\n",
      "1.이름으로 검색 / 2.전화번호로 검색2\n",
      "전화번호: 123\n",
      "이름: abc\n",
      "1.이름으로 검색 / 2.전화번호로 검색0\n"
     ]
    }
   ],
   "source": [
    "print(\"열 명의 전화번호를 입력하세요.\")\n",
    "\n",
    "dic = {}\n",
    "for i in range(10):\n",
    "    name = input(str(i) + \". 이름: \")\n",
    "    tel = input(str(i) + \". 전화번호: \")\n",
    "    dic[name] = tel\n",
    "\n",
    "while True:\n",
    "    search = input(\"1.이름으로 검색 / 2.전화번호로 검색\")\n",
    "    if search == '1':\n",
    "        k = input(\"이름: \")\n",
    "        if k in dic:\n",
    "            print(\"전화번호:\", dic[k])\n",
    "        else:\n",
    "            print(\"정보가 없습니다.\")\n",
    "\n",
    "    elif search == '2':\n",
    "        tel = input(\"전화번호: \")\n",
    "        for k, v in dic.items():\n",
    "            if v == tel:\n",
    "                print(\"이름:\", k)\n",
    "    \n",
    "    else: \n",
    "        break"
   ]
  },
  {
   "cell_type": "code",
   "execution_count": null,
   "id": "6ff61647",
   "metadata": {},
   "outputs": [],
   "source": []
  }
 ],
 "metadata": {
  "kernelspec": {
   "display_name": "Python 3",
   "language": "python",
   "name": "python3"
  },
  "language_info": {
   "codemirror_mode": {
    "name": "ipython",
    "version": 3
   },
   "file_extension": ".py",
   "mimetype": "text/x-python",
   "name": "python",
   "nbconvert_exporter": "python",
   "pygments_lexer": "ipython3",
   "version": "3.9.4"
  }
 },
 "nbformat": 4,
 "nbformat_minor": 5
}
