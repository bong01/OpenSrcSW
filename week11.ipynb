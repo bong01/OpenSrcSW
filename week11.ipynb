{
 "cells": [
  {
   "cell_type": "code",
   "execution_count": 1,
   "id": "e0732e4e",
   "metadata": {},
   "outputs": [
    {
     "name": "stdout",
     "output_type": "stream",
     "text": [
      "ex)cp file1 file2\n",
      "cp /users/bong/desktop/sample.txt /users/bong/desktop/copy.txt\n"
     ]
    }
   ],
   "source": [
    "# cp file1 file2\n",
    "\n",
    "import shutil\n",
    "\n",
    "cmd = input(\"ex)cp file1 file2\\n\").split()\n",
    "if cmd[0] == \"cp\":\n",
    "    file1 = cmd[1]\n",
    "    file2 = cmd[2]\n",
    "\n",
    "    try:\n",
    "        shutil.copy(file1, file2)\n",
    "    except:\n",
    "        print(\"error\")"
   ]
  },
  {
   "cell_type": "code",
   "execution_count": 2,
   "id": "d849a16d",
   "metadata": {},
   "outputs": [
    {
     "name": "stdout",
     "output_type": "stream",
     "text": [
      "ex)wc file1\n",
      "wc /users/bong/desktop/copy.txt\n",
      "라인 수: 4 \n",
      "단어 수: 10\n"
     ]
    }
   ],
   "source": [
    "# wc file1\n",
    "\n",
    "cmd = input(\"ex)wc file1\\n\").split()\n",
    "\n",
    "if cmd[0] == \"wc\":\n",
    "    f = cmd[1]\n",
    "    with open(f, encoding='utf-8') as file:\n",
    "        cntWord = 0\n",
    "        cntLine = 0\n",
    "        for line in file:\n",
    "            cntLine += 1\n",
    "            for word in line.split():\n",
    "                cntWord += 1\n",
    "        print(\"라인 수:\", cntLine,\"\\n단어 수:\",cntWord)"
   ]
  },
  {
   "cell_type": "code",
   "execution_count": 3,
   "id": "264b575b",
   "metadata": {},
   "outputs": [
    {
     "name": "stdout",
     "output_type": "stream",
     "text": [
      "1 + 2 = 3 입니다.\n",
      "1 - 2 = -1 입니다.\n",
      "1 * 2 = 2 입니다.\n",
      "1 / 2 = 0.500000 입니다.\n"
     ]
    }
   ],
   "source": [
    "# 사칙연산 \n",
    "\n",
    "class Calc:\n",
    "    def sum(self, num1, num2):\n",
    "        result = num1 + num2\n",
    "        print(\"{0:d} + {1:d} = {2:d} 입니다.\".format(num1, num2, result))\n",
    "    \n",
    "\n",
    "    def sub(self, num1, num2):\n",
    "        result = num1 - num2\n",
    "        print(\"{0:d} - {1:d} = {2:d} 입니다.\".format(num1, num2, result))\n",
    "        \n",
    "    def multi(self, num1, num2):\n",
    "        result = num1 * num2\n",
    "        print(\"{0:d} * {1:d} = {2:d} 입니다.\".format(num1, num2, result))\n",
    "        \n",
    "    def divi(self, num1, num2):\n",
    "        result = num1 / num2\n",
    "        print(\"{0:d} / {1:d} = {2:f} 입니다.\".format(num1, num2, result))\n",
    "        \n",
    "calc = Calc()\n",
    "calc.sum(1,2)\n",
    "calc.sub(1,2)\n",
    "calc.multi(1,2)\n",
    "calc.divi(1,2)"
   ]
  },
  {
   "cell_type": "code",
   "execution_count": null,
   "id": "3332febf",
   "metadata": {},
   "outputs": [],
   "source": [
    "# 계산기\n",
    "\n",
    "class Stack:\n",
    "    def __init__(self):\n",
    "        self.items =[]\n",
    "        \n",
    "    def push(self, item):\n",
    "        self.items.append(item)\n",
    "        \n",
    "    def pop(self):\n",
    "        return self.items.pop()\n",
    "    \n",
    "    def top(self):\n",
    "        return self.items[-1]\n",
    "    \n",
    "    def isEmpty(self):\n",
    "        if len(self.items) == 0:\n",
    "            return True\n",
    "        \n",
    "num = Stack()\n",
    "op = Stack()\n",
    "operators = ['+', '-', \"*\", \"/\"]\n",
    "priority = {\"+\":0, \"-\":0, \"*\":1, \"/\":1}\n",
    "\n",
    "def calc(num, op):\n",
    "    n2 = num.pop()\n",
    "    n1 = num.pop()\n",
    "    \n",
    "    if op == '+':\n",
    "        num.push(n1+n2)\n",
    "        \n",
    "    if op == '-':\n",
    "        num.push(n1-n2)\n",
    "        \n",
    "    if op == '*':\n",
    "        num.push(n1*n2)\n",
    "        \n",
    "    if op == '/':\n",
    "        num.push(n1/n2) \n",
    "                \n",
    "exp = input().split()\n",
    "\n",
    "for e in exp:\n",
    "    if e not in operators:\n",
    "        num.push(int(e))\n",
    "        \n",
    "    else:\n",
    "        while not op.isEmpty() and priority[op.top()]>=priority[e]:\n",
    "            calc(num,op.pop())\n",
    "        op.push(e)          \n",
    "    \n",
    "while not op.isEmpty():\n",
    "    calc(num,op.pop())\n",
    "    \n",
    "print(\"\".join(exp)+\"=\"+str(num.top()))"
   ]
  },
  {
   "cell_type": "code",
   "execution_count": null,
   "id": "e22e8dd1",
   "metadata": {},
   "outputs": [],
   "source": []
  }
 ],
 "metadata": {
  "kernelspec": {
   "display_name": "Python 3",
   "language": "python",
   "name": "python3"
  },
  "language_info": {
   "codemirror_mode": {
    "name": "ipython",
    "version": 3
   },
   "file_extension": ".py",
   "mimetype": "text/x-python",
   "name": "python",
   "nbconvert_exporter": "python",
   "pygments_lexer": "ipython3",
   "version": "3.9.4"
  }
 },
 "nbformat": 4,
 "nbformat_minor": 5
}
